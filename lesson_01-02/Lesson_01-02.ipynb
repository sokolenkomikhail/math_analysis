{
 "cells": [
  {
   "cell_type": "markdown",
   "metadata": {},
   "source": [
    "Даны три множества a,b и с. Необходимо выполнить все изученные виды бинарных операций над всеми комбинациями множеств."
   ]
  },
  {
   "cell_type": "code",
   "execution_count": 77,
   "metadata": {},
   "outputs": [],
   "source": [
    "A = {1, 2, 3, 5, 7}\n",
    "B = {2, 4, 6, 8}\n",
    "C = {3, 6, 9}"
   ]
  },
  {
   "cell_type": "markdown",
   "metadata": {},
   "source": [
    "### Пересечение"
   ]
  },
  {
   "cell_type": "code",
   "execution_count": 78,
   "metadata": {},
   "outputs": [
    {
     "name": "stdout",
     "output_type": "stream",
     "text": [
      "Пересечение A и B: {2}\n",
      "Пересечение A и C: {3}\n",
      "Пересечение B и C: {6}\n"
     ]
    }
   ],
   "source": [
    "print(f'Пересечение A и B: {A.intersection(B)}')\n",
    "print(f'Пересечение A и C: {A.intersection(C)}')\n",
    "print(f'Пересечение B и C: {B.intersection(C)}')"
   ]
  },
  {
   "cell_type": "markdown",
   "metadata": {},
   "source": [
    "### Объединение"
   ]
  },
  {
   "cell_type": "code",
   "execution_count": 79,
   "metadata": {},
   "outputs": [
    {
     "name": "stdout",
     "output_type": "stream",
     "text": [
      "Объединение A и B: {1, 2, 3, 4, 5, 6, 7, 8}\n",
      "Объединение A и C: {1, 2, 3, 5, 6, 7, 9}\n",
      "Объединение B и C: {2, 3, 4, 6, 8, 9}\n"
     ]
    }
   ],
   "source": [
    "print(f'Объединение A и B: {A.union(B)}')\n",
    "print(f'Объединение A и C: {A.union(C)}')\n",
    "print(f'Объединение B и C: {B.union(C)}')"
   ]
  },
  {
   "cell_type": "markdown",
   "metadata": {},
   "source": [
    "### Разность"
   ]
  },
  {
   "cell_type": "code",
   "execution_count": 80,
   "metadata": {},
   "outputs": [
    {
     "name": "stdout",
     "output_type": "stream",
     "text": [
      "Разность A и B: {1, 3, 5, 7}\n",
      "Разность B и A: {8, 4, 6}\n",
      "Разность A и C: {1, 2, 5, 7}\n",
      "Разность C и A: {9, 6}\n",
      "Разность B и C: {8, 2, 4}\n",
      "Разность C и B: {9, 3}\n"
     ]
    }
   ],
   "source": [
    "print(f'Разность A и B: {A.difference(B)}')\n",
    "print(f'Разность B и A: {B.difference(A)}')\n",
    "print(f'Разность A и C: {A.difference(C)}')\n",
    "print(f'Разность C и A: {C.difference(A)}')\n",
    "print(f'Разность B и C: {B.difference(C)}')\n",
    "print(f'Разность C и B: {C.difference(B)}')"
   ]
  },
  {
   "cell_type": "markdown",
   "metadata": {},
   "source": [
    "### Симметрическая разность"
   ]
  },
  {
   "cell_type": "code",
   "execution_count": 81,
   "metadata": {},
   "outputs": [
    {
     "name": "stdout",
     "output_type": "stream",
     "text": [
      "Симметрическая разность A и B: {1, 3, 4, 5, 6, 7, 8}\n",
      "Симметрическая разность A и C: {1, 2, 5, 6, 7, 9}\n",
      "Симметрическая разность B и C: {2, 3, 4, 8, 9}\n"
     ]
    }
   ],
   "source": [
    "print(f'Симметрическая разность A и B: {A.symmetric_difference(B)}')\n",
    "print(f'Симметрическая разность A и C: {A.symmetric_difference(C)}')\n",
    "print(f'Симметрическая разность B и C: {B.symmetric_difference(C)}')"
   ]
  },
  {
   "cell_type": "markdown",
   "metadata": {},
   "source": [
    "### Декартово произведение"
   ]
  },
  {
   "cell_type": "code",
   "execution_count": 82,
   "metadata": {},
   "outputs": [
    {
     "name": "stdout",
     "output_type": "stream",
     "text": [
      "Декартово произведение A и B: {(3, 4), (5, 4), (2, 2), (1, 6), (2, 8), (7, 4), (5, 6), (3, 6), (2, 4), (1, 2), (1, 8), (7, 6), (3, 2), (5, 2), (3, 8), (5, 8), (1, 4), (2, 6), (7, 2), (7, 8)}\n",
      "Декартово произведение A и C: {(7, 3), (2, 3), (2, 9), (7, 9), (3, 3), (2, 6), (3, 9), (5, 9), (3, 6), (5, 3), (1, 6), (5, 6), (7, 6), (1, 3), (1, 9)}\n",
      "Декартово произведение B и C: {(4, 3), (4, 9), (4, 6), (2, 3), (2, 9), (8, 3), (8, 9), (2, 6), (8, 6), (6, 6), (6, 3), (6, 9)}\n"
     ]
    }
   ],
   "source": [
    "# У класса set отсутствует метод для произведения двух множеств, поэтому пришлось импровизировать\n",
    "\n",
    "AxB = {(ai, bi) for ai in A for bi in B}\n",
    "AxC = {(ai, ci) for ai in A for ci in C}\n",
    "BxC = {(bi, ci) for bi in B for ci in C}\n",
    "\n",
    "        \n",
    "print(f'Декартово произведение A и B: {AxB}')\n",
    "print(f'Декартово произведение A и C: {AxC}')\n",
    "print(f'Декартово произведение B и C: {BxC}')"
   ]
  }
 ],
 "metadata": {
  "kernelspec": {
   "display_name": "Python 3",
   "language": "python",
   "name": "python3"
  },
  "language_info": {
   "codemirror_mode": {
    "name": "ipython",
    "version": 3
   },
   "file_extension": ".py",
   "mimetype": "text/x-python",
   "name": "python",
   "nbconvert_exporter": "python",
   "pygments_lexer": "ipython3",
   "version": "3.8.2"
  }
 },
 "nbformat": 4,
 "nbformat_minor": 4
}
